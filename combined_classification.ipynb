{
 "cells": [
  {
   "cell_type": "code",
   "execution_count": 4,
   "metadata": {},
   "outputs": [],
   "source": [
    "#importing necessary libraries\n",
    "import pandas as pd\n",
    "import numpy as np\n",
    "import seaborn as sns\n",
    "import nltk\n",
    "import torch\n",
    "from nltk.tokenize import RegexpTokenizer\n",
    "from sklearn.ensemble import RandomForestClassifier\n",
    "from sklearn.feature_extraction.text import TfidfVectorizer\n",
    "from sklearn.feature_extraction.text import CountVectorizer\n",
    "from sklearn.metrics import confusion_matrix\n",
    "from sklearn.model_selection import train_test_split\n",
    "from sklearn.model_selection import GridSearchCV\n",
    "from sklearn import metrics\n",
    "np.random.seed(12345)\n"
   ]
  },
  {
   "cell_type": "code",
   "execution_count": 2,
   "metadata": {},
   "outputs": [
    {
     "name": "stdout",
     "output_type": "stream",
     "text": [
      "GPU available: True\n"
     ]
    }
   ],
   "source": [
    "import paddle\n",
    "gpu_available  = paddle.device.is_compiled_with_cuda()\n",
    "print(\"GPU available:\", gpu_available)"
   ]
  },
  {
   "cell_type": "code",
   "execution_count": 5,
   "metadata": {},
   "outputs": [],
   "source": [
    "torch.cuda.empty_cache()"
   ]
  },
  {
   "cell_type": "code",
   "execution_count": 4,
   "metadata": {},
   "outputs": [],
   "source": [
    "#this dataframe consists of samples of both kyc as well as not_kyc classes\n",
    "train_kyc_1=pd.read_csv(\"/home/intern/doc_classification_env/Data/train_combined_kyc_paddleocr.csv\",usecols=['content','label'])\n",
    "train_kyc_2=pd.read_csv(\"/home/intern/doc_classification_env/Data/train_only_kyc_updated.csv\",usecols=['content','label'])\n",
    "train_pa_1=pd.read_csv('/home/intern/doc_classification_env/Data/train_combined_pre_auths_paddleocr.csv',usecols=['content','label'])\n",
    "train_pa_2=pd.read_csv(\"/home/intern/doc_classification_env/Data/train_only_pre_auths.csv\",usecols=['content','label'])\n",
    "train_ecard=pd.read_csv(\"/home/intern/doc_classification_env/Data/train_only_ecards.csv\",usecols=['content','label'])\n",
    "train_ecard_2=pd.read_csv(\"/home/intern/doc_classification_env/Data/train_extra_ecard.csv\",usecols=['content','label'])\n",
    "train_ds=pd.read_csv(\"/home/intern/doc_classification_env/Data/train_only_ds.csv\",usecols=['content','label'])\n",
    "train_others_1=pd.read_csv(\"/home/intern/doc_classification_env/Data/train_others_1.csv\",usecols=['content','label'])\n",
    "train_others_2=pd.read_csv(\"/home/intern/doc_classification_env/Data/train_others_2.csv\",usecols=['content','label'])\n",
    "train_others_3=pd.read_csv(\"/home/intern/doc_classification_env/Data/train_others_3.csv\",usecols=['content','label'])\n",
    "train_others_4=pd.read_csv(\"/home/intern/doc_classification_env/Data/train_others_4.csv\",usecols=['content','label'])\n",
    "train_others_5=pd.read_csv(\"/home/intern/doc_classification_env/Data/train_others_5.csv\",usecols=['content','label'])"
   ]
  },
  {
   "cell_type": "code",
   "execution_count": 5,
   "metadata": {},
   "outputs": [],
   "source": [
    "df_2=pd.concat([train_others_1,train_others_2,train_others_3,train_others_4,train_others_5])"
   ]
  },
  {
   "cell_type": "code",
   "execution_count": 6,
   "metadata": {},
   "outputs": [],
   "source": [
    "df_1=pd.concat([train_pa_2,train_ecard,train_kyc_2,train_ecard_2])"
   ]
  },
  {
   "cell_type": "code",
   "execution_count": 7,
   "metadata": {},
   "outputs": [],
   "source": [
    "train_kyc_1=train_kyc_1[train_kyc_1['label']=='kyc']\n",
    "train_pa_1=train_pa_1[train_pa_1['label']=='pre_auth_form']"
   ]
  },
  {
   "cell_type": "code",
   "execution_count": 8,
   "metadata": {},
   "outputs": [],
   "source": [
    "train_combined_df=pd.concat([df_1,train_kyc_1,train_pa_1,df_2,train_ds])"
   ]
  },
  {
   "cell_type": "code",
   "execution_count": 9,
   "metadata": {},
   "outputs": [
    {
     "data": {
      "text/html": [
       "<div>\n",
       "<style scoped>\n",
       "    .dataframe tbody tr th:only-of-type {\n",
       "        vertical-align: middle;\n",
       "    }\n",
       "\n",
       "    .dataframe tbody tr th {\n",
       "        vertical-align: top;\n",
       "    }\n",
       "\n",
       "    .dataframe thead th {\n",
       "        text-align: right;\n",
       "    }\n",
       "</style>\n",
       "<table border=\"1\" class=\"dataframe\">\n",
       "  <thead>\n",
       "    <tr style=\"text-align: right;\">\n",
       "      <th></th>\n",
       "      <th>content</th>\n",
       "      <th>label</th>\n",
       "    </tr>\n",
       "  </thead>\n",
       "  <tbody>\n",
       "    <tr>\n",
       "      <th>0</th>\n",
       "      <td>['ea1dN0.K0c-01-00000-000-0069834-A', 'REQUEST...</td>\n",
       "      <td>pre_auth_form</td>\n",
       "    </tr>\n",
       "    <tr>\n",
       "      <th>1</th>\n",
       "      <td>['TO BEFILLED BY TREATING DOCTOR/HOSPITAL', 'J...</td>\n",
       "      <td>pre_auth_form</td>\n",
       "    </tr>\n",
       "    <tr>\n",
       "      <th>2</th>\n",
       "      <td>['fim naving read understood and agreed to the...</td>\n",
       "      <td>pre_auth_form</td>\n",
       "    </tr>\n",
       "    <tr>\n",
       "      <th>3</th>\n",
       "      <td>['REQUEST FORCASHLESS HOSPITALISATION FORHEALT...</td>\n",
       "      <td>pre_auth_form</td>\n",
       "    </tr>\n",
       "    <tr>\n",
       "      <th>4</th>\n",
       "      <td>['TOBEFILLEDBYTREATINGDOCTOR/HOSPITAL', 'Thome...</td>\n",
       "      <td>pre_auth_form</td>\n",
       "    </tr>\n",
       "    <tr>\n",
       "      <th>...</th>\n",
       "      <td>...</td>\n",
       "      <td>...</td>\n",
       "    </tr>\n",
       "    <tr>\n",
       "      <th>1129</th>\n",
       "      <td>['SRI RAMACHANDRA', 'Porur,Chennai -600 116.',...</td>\n",
       "      <td>ds</td>\n",
       "    </tr>\n",
       "    <tr>\n",
       "      <th>1130</th>\n",
       "      <td>['Pages2/6', 'SRI RAMACHANDRA', 'Porur,Chennai...</td>\n",
       "      <td>ds</td>\n",
       "    </tr>\n",
       "    <tr>\n",
       "      <th>1131</th>\n",
       "      <td>['Pages3/6', 'SRI RAMACHANDRA', 'Porur,Chennai...</td>\n",
       "      <td>ds</td>\n",
       "    </tr>\n",
       "    <tr>\n",
       "      <th>1132</th>\n",
       "      <td>['mar', 'ARDIOTHORACICSURGERY', '122000000193-...</td>\n",
       "      <td>ds</td>\n",
       "    </tr>\n",
       "    <tr>\n",
       "      <th>1133</th>\n",
       "      <td>['JAYANTHIW/O', 'HOSPITAL NO', '：MH007070327',...</td>\n",
       "      <td>ds</td>\n",
       "    </tr>\n",
       "  </tbody>\n",
       "</table>\n",
       "<p>1134 rows × 2 columns</p>\n",
       "</div>"
      ],
      "text/plain": [
       "                                                content          label\n",
       "0     ['ea1dN0.K0c-01-00000-000-0069834-A', 'REQUEST...  pre_auth_form\n",
       "1     ['TO BEFILLED BY TREATING DOCTOR/HOSPITAL', 'J...  pre_auth_form\n",
       "2     ['fim naving read understood and agreed to the...  pre_auth_form\n",
       "3     ['REQUEST FORCASHLESS HOSPITALISATION FORHEALT...  pre_auth_form\n",
       "4     ['TOBEFILLEDBYTREATINGDOCTOR/HOSPITAL', 'Thome...  pre_auth_form\n",
       "...                                                 ...            ...\n",
       "1129  ['SRI RAMACHANDRA', 'Porur,Chennai -600 116.',...             ds\n",
       "1130  ['Pages2/6', 'SRI RAMACHANDRA', 'Porur,Chennai...             ds\n",
       "1131  ['Pages3/6', 'SRI RAMACHANDRA', 'Porur,Chennai...             ds\n",
       "1132  ['mar', 'ARDIOTHORACICSURGERY', '122000000193-...             ds\n",
       "1133  ['JAYANTHIW/O', 'HOSPITAL NO', '：MH007070327',...             ds\n",
       "\n",
       "[1134 rows x 2 columns]"
      ]
     },
     "execution_count": 9,
     "metadata": {},
     "output_type": "execute_result"
    }
   ],
   "source": [
    "train_final=train_combined_df\n",
    "train_final.reset_index(drop=True)"
   ]
  },
  {
   "cell_type": "code",
   "execution_count": 10,
   "metadata": {},
   "outputs": [
    {
     "name": "stderr",
     "output_type": "stream",
     "text": [
      "[nltk_data] Downloading package stopwords to /home/intern/nltk_data...\n",
      "[nltk_data]   Package stopwords is already up-to-date!\n"
     ]
    }
   ],
   "source": [
    "train_1=train_final\n",
    "nltk.download('stopwords')\n",
    "stop_words=nltk.corpus.stopwords.words(\"english\")"
   ]
  },
  {
   "cell_type": "code",
   "execution_count": 11,
   "metadata": {},
   "outputs": [],
   "source": [
    "X_train, X_test, Y_train, Y_test = train_test_split(train_1['content'], train_1['label'], test_size=0.30, random_state=5,shuffle=True)"
   ]
  },
  {
   "cell_type": "code",
   "execution_count": 12,
   "metadata": {},
   "outputs": [
    {
     "name": "stderr",
     "output_type": "stream",
     "text": [
      "/home/intern/doc_classification_env/lib/python3.10/site-packages/sklearn/feature_extraction/text.py:525: UserWarning: The parameter 'token_pattern' will not be used since 'tokenizer' is not None'\n",
      "  warnings.warn(\n"
     ]
    }
   ],
   "source": [
    "#uses unigrams to create features and only considers the top 200 features.\n",
    "tokenizer = RegexpTokenizer(r'[a-zA-Z0-9]+')\n",
    "cv = CountVectorizer(stop_words='english',ngram_range = (1,1),tokenizer = tokenizer.tokenize,max_features=100)\n",
    "unigrams_count_train_1 = cv.fit_transform(X_train)\n",
    "unigrams_count_test_1=cv.transform(X_test)"
   ]
  },
  {
   "cell_type": "code",
   "execution_count": 13,
   "metadata": {},
   "outputs": [],
   "source": [
    "rfc=RandomForestClassifier(random_state=5)"
   ]
  },
  {
   "cell_type": "code",
   "execution_count": 21,
   "metadata": {},
   "outputs": [],
   "source": [
    "#creating a hyperparameter grid which will be used by grid search as a sample hyperparameter space\n",
    "param_grid = {\n",
    "    'n_estimators': [10, 30, 50, 70, 100],\n",
    "    'max_depth': [5, 10, 20, 30],\n",
    "    'min_samples_split': [2, 5],\n",
    "    'min_samples_leaf': [1, 2, 5],\n",
    "    'max_features': [10,25,50,100]\n",
    "}"
   ]
  },
  {
   "cell_type": "code",
   "execution_count": 22,
   "metadata": {},
   "outputs": [],
   "source": [
    "grid_search = GridSearchCV(estimator=rfc, param_grid=param_grid, cv=10, scoring='accuracy')"
   ]
  },
  {
   "cell_type": "code",
   "execution_count": 23,
   "metadata": {},
   "outputs": [
    {
     "data": {
      "text/html": [
       "<style>#sk-container-id-1 {\n",
       "  /* Definition of color scheme common for light and dark mode */\n",
       "  --sklearn-color-text: black;\n",
       "  --sklearn-color-line: gray;\n",
       "  /* Definition of color scheme for unfitted estimators */\n",
       "  --sklearn-color-unfitted-level-0: #fff5e6;\n",
       "  --sklearn-color-unfitted-level-1: #f6e4d2;\n",
       "  --sklearn-color-unfitted-level-2: #ffe0b3;\n",
       "  --sklearn-color-unfitted-level-3: chocolate;\n",
       "  /* Definition of color scheme for fitted estimators */\n",
       "  --sklearn-color-fitted-level-0: #f0f8ff;\n",
       "  --sklearn-color-fitted-level-1: #d4ebff;\n",
       "  --sklearn-color-fitted-level-2: #b3dbfd;\n",
       "  --sklearn-color-fitted-level-3: cornflowerblue;\n",
       "\n",
       "  /* Specific color for light theme */\n",
       "  --sklearn-color-text-on-default-background: var(--sg-text-color, var(--theme-code-foreground, var(--jp-content-font-color1, black)));\n",
       "  --sklearn-color-background: var(--sg-background-color, var(--theme-background, var(--jp-layout-color0, white)));\n",
       "  --sklearn-color-border-box: var(--sg-text-color, var(--theme-code-foreground, var(--jp-content-font-color1, black)));\n",
       "  --sklearn-color-icon: #696969;\n",
       "\n",
       "  @media (prefers-color-scheme: dark) {\n",
       "    /* Redefinition of color scheme for dark theme */\n",
       "    --sklearn-color-text-on-default-background: var(--sg-text-color, var(--theme-code-foreground, var(--jp-content-font-color1, white)));\n",
       "    --sklearn-color-background: var(--sg-background-color, var(--theme-background, var(--jp-layout-color0, #111)));\n",
       "    --sklearn-color-border-box: var(--sg-text-color, var(--theme-code-foreground, var(--jp-content-font-color1, white)));\n",
       "    --sklearn-color-icon: #878787;\n",
       "  }\n",
       "}\n",
       "\n",
       "#sk-container-id-1 {\n",
       "  color: var(--sklearn-color-text);\n",
       "}\n",
       "\n",
       "#sk-container-id-1 pre {\n",
       "  padding: 0;\n",
       "}\n",
       "\n",
       "#sk-container-id-1 input.sk-hidden--visually {\n",
       "  border: 0;\n",
       "  clip: rect(1px 1px 1px 1px);\n",
       "  clip: rect(1px, 1px, 1px, 1px);\n",
       "  height: 1px;\n",
       "  margin: -1px;\n",
       "  overflow: hidden;\n",
       "  padding: 0;\n",
       "  position: absolute;\n",
       "  width: 1px;\n",
       "}\n",
       "\n",
       "#sk-container-id-1 div.sk-dashed-wrapped {\n",
       "  border: 1px dashed var(--sklearn-color-line);\n",
       "  margin: 0 0.4em 0.5em 0.4em;\n",
       "  box-sizing: border-box;\n",
       "  padding-bottom: 0.4em;\n",
       "  background-color: var(--sklearn-color-background);\n",
       "}\n",
       "\n",
       "#sk-container-id-1 div.sk-container {\n",
       "  /* jupyter's `normalize.less` sets `[hidden] { display: none; }`\n",
       "     but bootstrap.min.css set `[hidden] { display: none !important; }`\n",
       "     so we also need the `!important` here to be able to override the\n",
       "     default hidden behavior on the sphinx rendered scikit-learn.org.\n",
       "     See: https://github.com/scikit-learn/scikit-learn/issues/21755 */\n",
       "  display: inline-block !important;\n",
       "  position: relative;\n",
       "}\n",
       "\n",
       "#sk-container-id-1 div.sk-text-repr-fallback {\n",
       "  display: none;\n",
       "}\n",
       "\n",
       "div.sk-parallel-item,\n",
       "div.sk-serial,\n",
       "div.sk-item {\n",
       "  /* draw centered vertical line to link estimators */\n",
       "  background-image: linear-gradient(var(--sklearn-color-text-on-default-background), var(--sklearn-color-text-on-default-background));\n",
       "  background-size: 2px 100%;\n",
       "  background-repeat: no-repeat;\n",
       "  background-position: center center;\n",
       "}\n",
       "\n",
       "/* Parallel-specific style estimator block */\n",
       "\n",
       "#sk-container-id-1 div.sk-parallel-item::after {\n",
       "  content: \"\";\n",
       "  width: 100%;\n",
       "  border-bottom: 2px solid var(--sklearn-color-text-on-default-background);\n",
       "  flex-grow: 1;\n",
       "}\n",
       "\n",
       "#sk-container-id-1 div.sk-parallel {\n",
       "  display: flex;\n",
       "  align-items: stretch;\n",
       "  justify-content: center;\n",
       "  background-color: var(--sklearn-color-background);\n",
       "  position: relative;\n",
       "}\n",
       "\n",
       "#sk-container-id-1 div.sk-parallel-item {\n",
       "  display: flex;\n",
       "  flex-direction: column;\n",
       "}\n",
       "\n",
       "#sk-container-id-1 div.sk-parallel-item:first-child::after {\n",
       "  align-self: flex-end;\n",
       "  width: 50%;\n",
       "}\n",
       "\n",
       "#sk-container-id-1 div.sk-parallel-item:last-child::after {\n",
       "  align-self: flex-start;\n",
       "  width: 50%;\n",
       "}\n",
       "\n",
       "#sk-container-id-1 div.sk-parallel-item:only-child::after {\n",
       "  width: 0;\n",
       "}\n",
       "\n",
       "/* Serial-specific style estimator block */\n",
       "\n",
       "#sk-container-id-1 div.sk-serial {\n",
       "  display: flex;\n",
       "  flex-direction: column;\n",
       "  align-items: center;\n",
       "  background-color: var(--sklearn-color-background);\n",
       "  padding-right: 1em;\n",
       "  padding-left: 1em;\n",
       "}\n",
       "\n",
       "\n",
       "/* Toggleable style: style used for estimator/Pipeline/ColumnTransformer box that is\n",
       "clickable and can be expanded/collapsed.\n",
       "- Pipeline and ColumnTransformer use this feature and define the default style\n",
       "- Estimators will overwrite some part of the style using the `sk-estimator` class\n",
       "*/\n",
       "\n",
       "/* Pipeline and ColumnTransformer style (default) */\n",
       "\n",
       "#sk-container-id-1 div.sk-toggleable {\n",
       "  /* Default theme specific background. It is overwritten whether we have a\n",
       "  specific estimator or a Pipeline/ColumnTransformer */\n",
       "  background-color: var(--sklearn-color-background);\n",
       "}\n",
       "\n",
       "/* Toggleable label */\n",
       "#sk-container-id-1 label.sk-toggleable__label {\n",
       "  cursor: pointer;\n",
       "  display: block;\n",
       "  width: 100%;\n",
       "  margin-bottom: 0;\n",
       "  padding: 0.5em;\n",
       "  box-sizing: border-box;\n",
       "  text-align: center;\n",
       "}\n",
       "\n",
       "#sk-container-id-1 label.sk-toggleable__label-arrow:before {\n",
       "  /* Arrow on the left of the label */\n",
       "  content: \"▸\";\n",
       "  float: left;\n",
       "  margin-right: 0.25em;\n",
       "  color: var(--sklearn-color-icon);\n",
       "}\n",
       "\n",
       "#sk-container-id-1 label.sk-toggleable__label-arrow:hover:before {\n",
       "  color: var(--sklearn-color-text);\n",
       "}\n",
       "\n",
       "/* Toggleable content - dropdown */\n",
       "\n",
       "#sk-container-id-1 div.sk-toggleable__content {\n",
       "  max-height: 0;\n",
       "  max-width: 0;\n",
       "  overflow: hidden;\n",
       "  text-align: left;\n",
       "  /* unfitted */\n",
       "  background-color: var(--sklearn-color-unfitted-level-0);\n",
       "}\n",
       "\n",
       "#sk-container-id-1 div.sk-toggleable__content.fitted {\n",
       "  /* fitted */\n",
       "  background-color: var(--sklearn-color-fitted-level-0);\n",
       "}\n",
       "\n",
       "#sk-container-id-1 div.sk-toggleable__content pre {\n",
       "  margin: 0.2em;\n",
       "  border-radius: 0.25em;\n",
       "  color: var(--sklearn-color-text);\n",
       "  /* unfitted */\n",
       "  background-color: var(--sklearn-color-unfitted-level-0);\n",
       "}\n",
       "\n",
       "#sk-container-id-1 div.sk-toggleable__content.fitted pre {\n",
       "  /* unfitted */\n",
       "  background-color: var(--sklearn-color-fitted-level-0);\n",
       "}\n",
       "\n",
       "#sk-container-id-1 input.sk-toggleable__control:checked~div.sk-toggleable__content {\n",
       "  /* Expand drop-down */\n",
       "  max-height: 200px;\n",
       "  max-width: 100%;\n",
       "  overflow: auto;\n",
       "}\n",
       "\n",
       "#sk-container-id-1 input.sk-toggleable__control:checked~label.sk-toggleable__label-arrow:before {\n",
       "  content: \"▾\";\n",
       "}\n",
       "\n",
       "/* Pipeline/ColumnTransformer-specific style */\n",
       "\n",
       "#sk-container-id-1 div.sk-label input.sk-toggleable__control:checked~label.sk-toggleable__label {\n",
       "  color: var(--sklearn-color-text);\n",
       "  background-color: var(--sklearn-color-unfitted-level-2);\n",
       "}\n",
       "\n",
       "#sk-container-id-1 div.sk-label.fitted input.sk-toggleable__control:checked~label.sk-toggleable__label {\n",
       "  background-color: var(--sklearn-color-fitted-level-2);\n",
       "}\n",
       "\n",
       "/* Estimator-specific style */\n",
       "\n",
       "/* Colorize estimator box */\n",
       "#sk-container-id-1 div.sk-estimator input.sk-toggleable__control:checked~label.sk-toggleable__label {\n",
       "  /* unfitted */\n",
       "  background-color: var(--sklearn-color-unfitted-level-2);\n",
       "}\n",
       "\n",
       "#sk-container-id-1 div.sk-estimator.fitted input.sk-toggleable__control:checked~label.sk-toggleable__label {\n",
       "  /* fitted */\n",
       "  background-color: var(--sklearn-color-fitted-level-2);\n",
       "}\n",
       "\n",
       "#sk-container-id-1 div.sk-label label.sk-toggleable__label,\n",
       "#sk-container-id-1 div.sk-label label {\n",
       "  /* The background is the default theme color */\n",
       "  color: var(--sklearn-color-text-on-default-background);\n",
       "}\n",
       "\n",
       "/* On hover, darken the color of the background */\n",
       "#sk-container-id-1 div.sk-label:hover label.sk-toggleable__label {\n",
       "  color: var(--sklearn-color-text);\n",
       "  background-color: var(--sklearn-color-unfitted-level-2);\n",
       "}\n",
       "\n",
       "/* Label box, darken color on hover, fitted */\n",
       "#sk-container-id-1 div.sk-label.fitted:hover label.sk-toggleable__label.fitted {\n",
       "  color: var(--sklearn-color-text);\n",
       "  background-color: var(--sklearn-color-fitted-level-2);\n",
       "}\n",
       "\n",
       "/* Estimator label */\n",
       "\n",
       "#sk-container-id-1 div.sk-label label {\n",
       "  font-family: monospace;\n",
       "  font-weight: bold;\n",
       "  display: inline-block;\n",
       "  line-height: 1.2em;\n",
       "}\n",
       "\n",
       "#sk-container-id-1 div.sk-label-container {\n",
       "  text-align: center;\n",
       "}\n",
       "\n",
       "/* Estimator-specific */\n",
       "#sk-container-id-1 div.sk-estimator {\n",
       "  font-family: monospace;\n",
       "  border: 1px dotted var(--sklearn-color-border-box);\n",
       "  border-radius: 0.25em;\n",
       "  box-sizing: border-box;\n",
       "  margin-bottom: 0.5em;\n",
       "  /* unfitted */\n",
       "  background-color: var(--sklearn-color-unfitted-level-0);\n",
       "}\n",
       "\n",
       "#sk-container-id-1 div.sk-estimator.fitted {\n",
       "  /* fitted */\n",
       "  background-color: var(--sklearn-color-fitted-level-0);\n",
       "}\n",
       "\n",
       "/* on hover */\n",
       "#sk-container-id-1 div.sk-estimator:hover {\n",
       "  /* unfitted */\n",
       "  background-color: var(--sklearn-color-unfitted-level-2);\n",
       "}\n",
       "\n",
       "#sk-container-id-1 div.sk-estimator.fitted:hover {\n",
       "  /* fitted */\n",
       "  background-color: var(--sklearn-color-fitted-level-2);\n",
       "}\n",
       "\n",
       "/* Specification for estimator info (e.g. \"i\" and \"?\") */\n",
       "\n",
       "/* Common style for \"i\" and \"?\" */\n",
       "\n",
       ".sk-estimator-doc-link,\n",
       "a:link.sk-estimator-doc-link,\n",
       "a:visited.sk-estimator-doc-link {\n",
       "  float: right;\n",
       "  font-size: smaller;\n",
       "  line-height: 1em;\n",
       "  font-family: monospace;\n",
       "  background-color: var(--sklearn-color-background);\n",
       "  border-radius: 1em;\n",
       "  height: 1em;\n",
       "  width: 1em;\n",
       "  text-decoration: none !important;\n",
       "  margin-left: 1ex;\n",
       "  /* unfitted */\n",
       "  border: var(--sklearn-color-unfitted-level-1) 1pt solid;\n",
       "  color: var(--sklearn-color-unfitted-level-1);\n",
       "}\n",
       "\n",
       ".sk-estimator-doc-link.fitted,\n",
       "a:link.sk-estimator-doc-link.fitted,\n",
       "a:visited.sk-estimator-doc-link.fitted {\n",
       "  /* fitted */\n",
       "  border: var(--sklearn-color-fitted-level-1) 1pt solid;\n",
       "  color: var(--sklearn-color-fitted-level-1);\n",
       "}\n",
       "\n",
       "/* On hover */\n",
       "div.sk-estimator:hover .sk-estimator-doc-link:hover,\n",
       ".sk-estimator-doc-link:hover,\n",
       "div.sk-label-container:hover .sk-estimator-doc-link:hover,\n",
       ".sk-estimator-doc-link:hover {\n",
       "  /* unfitted */\n",
       "  background-color: var(--sklearn-color-unfitted-level-3);\n",
       "  color: var(--sklearn-color-background);\n",
       "  text-decoration: none;\n",
       "}\n",
       "\n",
       "div.sk-estimator.fitted:hover .sk-estimator-doc-link.fitted:hover,\n",
       ".sk-estimator-doc-link.fitted:hover,\n",
       "div.sk-label-container:hover .sk-estimator-doc-link.fitted:hover,\n",
       ".sk-estimator-doc-link.fitted:hover {\n",
       "  /* fitted */\n",
       "  background-color: var(--sklearn-color-fitted-level-3);\n",
       "  color: var(--sklearn-color-background);\n",
       "  text-decoration: none;\n",
       "}\n",
       "\n",
       "/* Span, style for the box shown on hovering the info icon */\n",
       ".sk-estimator-doc-link span {\n",
       "  display: none;\n",
       "  z-index: 9999;\n",
       "  position: relative;\n",
       "  font-weight: normal;\n",
       "  right: .2ex;\n",
       "  padding: .5ex;\n",
       "  margin: .5ex;\n",
       "  width: min-content;\n",
       "  min-width: 20ex;\n",
       "  max-width: 50ex;\n",
       "  color: var(--sklearn-color-text);\n",
       "  box-shadow: 2pt 2pt 4pt #999;\n",
       "  /* unfitted */\n",
       "  background: var(--sklearn-color-unfitted-level-0);\n",
       "  border: .5pt solid var(--sklearn-color-unfitted-level-3);\n",
       "}\n",
       "\n",
       ".sk-estimator-doc-link.fitted span {\n",
       "  /* fitted */\n",
       "  background: var(--sklearn-color-fitted-level-0);\n",
       "  border: var(--sklearn-color-fitted-level-3);\n",
       "}\n",
       "\n",
       ".sk-estimator-doc-link:hover span {\n",
       "  display: block;\n",
       "}\n",
       "\n",
       "/* \"?\"-specific style due to the `<a>` HTML tag */\n",
       "\n",
       "#sk-container-id-1 a.estimator_doc_link {\n",
       "  float: right;\n",
       "  font-size: 1rem;\n",
       "  line-height: 1em;\n",
       "  font-family: monospace;\n",
       "  background-color: var(--sklearn-color-background);\n",
       "  border-radius: 1rem;\n",
       "  height: 1rem;\n",
       "  width: 1rem;\n",
       "  text-decoration: none;\n",
       "  /* unfitted */\n",
       "  color: var(--sklearn-color-unfitted-level-1);\n",
       "  border: var(--sklearn-color-unfitted-level-1) 1pt solid;\n",
       "}\n",
       "\n",
       "#sk-container-id-1 a.estimator_doc_link.fitted {\n",
       "  /* fitted */\n",
       "  border: var(--sklearn-color-fitted-level-1) 1pt solid;\n",
       "  color: var(--sklearn-color-fitted-level-1);\n",
       "}\n",
       "\n",
       "/* On hover */\n",
       "#sk-container-id-1 a.estimator_doc_link:hover {\n",
       "  /* unfitted */\n",
       "  background-color: var(--sklearn-color-unfitted-level-3);\n",
       "  color: var(--sklearn-color-background);\n",
       "  text-decoration: none;\n",
       "}\n",
       "\n",
       "#sk-container-id-1 a.estimator_doc_link.fitted:hover {\n",
       "  /* fitted */\n",
       "  background-color: var(--sklearn-color-fitted-level-3);\n",
       "}\n",
       "</style><div id=\"sk-container-id-1\" class=\"sk-top-container\"><div class=\"sk-text-repr-fallback\"><pre>GridSearchCV(cv=10, estimator=RandomForestClassifier(random_state=5),\n",
       "             param_grid={&#x27;max_depth&#x27;: [5, 10, 20, 30],\n",
       "                         &#x27;max_features&#x27;: [10, 25, 50, 100],\n",
       "                         &#x27;min_samples_leaf&#x27;: [1, 2, 5],\n",
       "                         &#x27;min_samples_split&#x27;: [2, 5],\n",
       "                         &#x27;n_estimators&#x27;: [10, 30, 50, 70, 100]},\n",
       "             scoring=&#x27;accuracy&#x27;)</pre><b>In a Jupyter environment, please rerun this cell to show the HTML representation or trust the notebook. <br />On GitHub, the HTML representation is unable to render, please try loading this page with nbviewer.org.</b></div><div class=\"sk-container\" hidden><div class=\"sk-item sk-dashed-wrapped\"><div class=\"sk-label-container\"><div class=\"sk-label fitted sk-toggleable\"><input class=\"sk-toggleable__control sk-hidden--visually\" id=\"sk-estimator-id-1\" type=\"checkbox\" ><label for=\"sk-estimator-id-1\" class=\"sk-toggleable__label fitted sk-toggleable__label-arrow fitted\">&nbsp;&nbsp;GridSearchCV<a class=\"sk-estimator-doc-link fitted\" rel=\"noreferrer\" target=\"_blank\" href=\"https://scikit-learn.org/1.4/modules/generated/sklearn.model_selection.GridSearchCV.html\">?<span>Documentation for GridSearchCV</span></a><span class=\"sk-estimator-doc-link fitted\">i<span>Fitted</span></span></label><div class=\"sk-toggleable__content fitted\"><pre>GridSearchCV(cv=10, estimator=RandomForestClassifier(random_state=5),\n",
       "             param_grid={&#x27;max_depth&#x27;: [5, 10, 20, 30],\n",
       "                         &#x27;max_features&#x27;: [10, 25, 50, 100],\n",
       "                         &#x27;min_samples_leaf&#x27;: [1, 2, 5],\n",
       "                         &#x27;min_samples_split&#x27;: [2, 5],\n",
       "                         &#x27;n_estimators&#x27;: [10, 30, 50, 70, 100]},\n",
       "             scoring=&#x27;accuracy&#x27;)</pre></div> </div></div><div class=\"sk-parallel\"><div class=\"sk-parallel-item\"><div class=\"sk-item\"><div class=\"sk-label-container\"><div class=\"sk-label fitted sk-toggleable\"><input class=\"sk-toggleable__control sk-hidden--visually\" id=\"sk-estimator-id-2\" type=\"checkbox\" ><label for=\"sk-estimator-id-2\" class=\"sk-toggleable__label fitted sk-toggleable__label-arrow fitted\">estimator: RandomForestClassifier</label><div class=\"sk-toggleable__content fitted\"><pre>RandomForestClassifier(random_state=5)</pre></div> </div></div><div class=\"sk-serial\"><div class=\"sk-item\"><div class=\"sk-estimator fitted sk-toggleable\"><input class=\"sk-toggleable__control sk-hidden--visually\" id=\"sk-estimator-id-3\" type=\"checkbox\" ><label for=\"sk-estimator-id-3\" class=\"sk-toggleable__label fitted sk-toggleable__label-arrow fitted\">&nbsp;RandomForestClassifier<a class=\"sk-estimator-doc-link fitted\" rel=\"noreferrer\" target=\"_blank\" href=\"https://scikit-learn.org/1.4/modules/generated/sklearn.ensemble.RandomForestClassifier.html\">?<span>Documentation for RandomForestClassifier</span></a></label><div class=\"sk-toggleable__content fitted\"><pre>RandomForestClassifier(random_state=5)</pre></div> </div></div></div></div></div></div></div></div></div>"
      ],
      "text/plain": [
       "GridSearchCV(cv=10, estimator=RandomForestClassifier(random_state=5),\n",
       "             param_grid={'max_depth': [5, 10, 20, 30],\n",
       "                         'max_features': [10, 25, 50, 100],\n",
       "                         'min_samples_leaf': [1, 2, 5],\n",
       "                         'min_samples_split': [2, 5],\n",
       "                         'n_estimators': [10, 30, 50, 70, 100]},\n",
       "             scoring='accuracy')"
      ]
     },
     "execution_count": 23,
     "metadata": {},
     "output_type": "execute_result"
    }
   ],
   "source": [
    "grid_search.fit(unigrams_count_train_1, Y_train)"
   ]
  },
  {
   "cell_type": "code",
   "execution_count": 24,
   "metadata": {},
   "outputs": [
    {
     "name": "stdout",
     "output_type": "stream",
     "text": [
      "Best Parameters:  {'max_depth': 30, 'max_features': 10, 'min_samples_leaf': 2, 'min_samples_split': 5, 'n_estimators': 50}\n",
      "Best Accuracy: 93.06%\n"
     ]
    }
   ],
   "source": [
    "#returns optimal hyperparameters along with best cv set score\n",
    "print(\"Best Parameters: \", grid_search.best_params_)\n",
    "print(\"Best Accuracy: {:.2f}%\".format(grid_search.best_score_ * 100))"
   ]
  },
  {
   "cell_type": "code",
   "execution_count": 14,
   "metadata": {},
   "outputs": [],
   "source": [
    "#initializing a RFC with the optimal hyperparameters suggested by Grid Search\n",
    "rfc=RandomForestClassifier(random_state=5,max_depth= 30, max_features=10, min_samples_leaf= 2, min_samples_split=5, n_estimators= 50)\n",
    "rfc.fit(unigrams_count_train_1,Y_train)\n",
    "pred_rfc=rfc.predict(unigrams_count_test_1)"
   ]
  },
  {
   "cell_type": "code",
   "execution_count": 15,
   "metadata": {},
   "outputs": [
    {
     "name": "stdout",
     "output_type": "stream",
     "text": [
      "67\n"
     ]
    }
   ],
   "source": [
    "len=0\n",
    "for val in Y_test:\n",
    "    if val=='kyc':\n",
    "        len+=1\n",
    "print(len)  "
   ]
  },
  {
   "cell_type": "code",
   "execution_count": 16,
   "metadata": {},
   "outputs": [
    {
     "name": "stdout",
     "output_type": "stream",
     "text": [
      "76\n"
     ]
    }
   ],
   "source": [
    "len=0\n",
    "for val in pred_rfc:\n",
    "    if val=='kyc':\n",
    "        len+=1\n",
    "print(len)        "
   ]
  },
  {
   "cell_type": "code",
   "execution_count": 17,
   "metadata": {},
   "outputs": [
    {
     "name": "stdout",
     "output_type": "stream",
     "text": [
      "91 53 67 63 67\n"
     ]
    }
   ],
   "source": [
    "cat_list=['pre_auth_form', 'ecard', 'kyc', 'others', 'ds']\n",
    "pa_count=0\n",
    "ecard_count=0\n",
    "kyc_count=0\n",
    "others_count=0\n",
    "ds_count=0\n",
    "\n",
    "for val in Y_test:\n",
    "    if val=='pre_auth_form':\n",
    "        pa_count+=1\n",
    "    elif val=='ecard':\n",
    "        ecard_count+=1\n",
    "    elif val=='kyc':\n",
    "        kyc_count+=1 \n",
    "    elif val=='others':\n",
    "        others_count+=1\n",
    "    else:\n",
    "        ds_count+=1       \n",
    "\n",
    "print(pa_count,ecard_count,kyc_count,others_count,ds_count)"
   ]
  },
  {
   "cell_type": "code",
   "execution_count": 18,
   "metadata": {},
   "outputs": [
    {
     "data": {
      "image/png": "[encoded data removed]",
      "text/plain": [
       "<Figure size 640x480 with 2 Axes>"
      ]
     },
     "metadata": {},
     "output_type": "display_data"
    }
   ],
   "source": [
    "import matplotlib.pyplot as plt\n",
    "cm_rfc=confusion_matrix(Y_test,pred_rfc)\n",
    "sns.heatmap(cm_rfc, \n",
    "            annot=True,\n",
    "            fmt='g', \n",
    "            xticklabels=['ds','ecard','kyc','others','pre_auth'],\n",
    "            yticklabels=['ds','ecard','kyc','others','pre_auth'])\n",
    "plt.ylabel('Actual',fontsize=13)\n",
    "plt.xlabel('Prediction',fontsize=13)\n",
    "plt.title('Confusion Matrix',fontsize=17)\n",
    "plt.show()"
   ]
  },
  {
   "cell_type": "code",
   "execution_count": 19,
   "metadata": {},
   "outputs": [
    {
     "data": {
      "text/plain": [
       "array([[66,  0,  0,  1,  0],\n",
       "       [ 0, 45,  8,  0,  0],\n",
       "       [ 0,  6, 60,  1,  0],\n",
       "       [ 1,  0,  4, 58,  0],\n",
       "       [ 0,  0,  4,  0, 87]])"
      ]
     },
     "execution_count": 19,
     "metadata": {},
     "output_type": "execute_result"
    }
   ],
   "source": [
    "cm_rfc"
   ]
  },
  {
   "cell_type": "code",
   "execution_count": 20,
   "metadata": {},
   "outputs": [
    {
     "name": "stdout",
     "output_type": "stream",
     "text": [
      "              precision    recall  f1-score   support\n",
      "\n",
      "          ds       0.99      0.99      0.99        67\n",
      "       ecard       0.88      0.85      0.87        53\n",
      "         kyc       0.79      0.90      0.84        67\n",
      "      others       0.97      0.92      0.94        63\n",
      "    pre_auth       1.00      0.96      0.98        91\n",
      "\n",
      "    accuracy                           0.93       341\n",
      "   macro avg       0.92      0.92      0.92       341\n",
      "weighted avg       0.93      0.93      0.93       341\n",
      "\n"
     ]
    }
   ],
   "source": [
    "from sklearn.metrics import classification_report\n",
    "print(classification_report(Y_test, pred_rfc, target_names=['ds','ecard','kyc','others','pre_auth']))"
   ]
  },
  {
   "cell_type": "code",
   "execution_count": 25,
   "metadata": {},
   "outputs": [],
   "source": [
    "probs=rfc.predict_proba(unigrams_count_test_1)"
   ]
  },
  {
   "cell_type": "code",
   "execution_count": 28,
   "metadata": {},
   "outputs": [
    {
     "name": "stdout",
     "output_type": "stream",
     "text": [
      "['others' 'ds' 'ds' 'others' 'ds' 'pre_auth_form' 'kyc' 'ecard'\n",
      " 'pre_auth_form' 'ecard' 'kyc' 'kyc' 'ecard' 'kyc' 'pre_auth_form'\n",
      " 'others' 'pre_auth_form' 'ds' 'ecard' 'ds' 'pre_auth_form' 'ds' 'ds'\n",
      " 'kyc' 'pre_auth_form' 'kyc' 'ecard' 'ecard' 'pre_auth_form' 'ds' 'others'\n",
      " 'ds' 'ds' 'kyc' 'others' 'others' 'ecard' 'others' 'pre_auth_form'\n",
      " 'others' 'others' 'kyc' 'kyc' 'ds' 'ecard' 'ds' 'ecard' 'kyc'\n",
      " 'pre_auth_form' 'others' 'ds' 'kyc' 'others' 'pre_auth_form' 'kyc'\n",
      " 'pre_auth_form' 'pre_auth_form' 'pre_auth_form' 'ds' 'pre_auth_form'\n",
      " 'kyc' 'ecard' 'ds' 'kyc' 'pre_auth_form' 'kyc' 'pre_auth_form'\n",
      " 'pre_auth_form' 'ds' 'kyc' 'kyc' 'pre_auth_form' 'others' 'others'\n",
      " 'ecard' 'pre_auth_form' 'ecard' 'ds' 'pre_auth_form' 'pre_auth_form'\n",
      " 'ecard' 'kyc' 'ds' 'ecard' 'pre_auth_form' 'pre_auth_form' 'others' 'ds'\n",
      " 'pre_auth_form' 'kyc' 'kyc' 'kyc' 'others' 'pre_auth_form' 'kyc' 'others'\n",
      " 'others' 'ds' 'others' 'kyc' 'pre_auth_form' 'ecard' 'pre_auth_form' 'ds'\n",
      " 'kyc' 'ecard' 'pre_auth_form' 'ecard' 'pre_auth_form' 'kyc' 'kyc'\n",
      " 'pre_auth_form' 'pre_auth_form' 'pre_auth_form' 'others' 'ds' 'kyc'\n",
      " 'ecard' 'others' 'ds' 'kyc' 'pre_auth_form' 'others' 'pre_auth_form' 'ds'\n",
      " 'kyc' 'pre_auth_form' 'ds' 'pre_auth_form' 'pre_auth_form'\n",
      " 'pre_auth_form' 'kyc' 'ds' 'pre_auth_form' 'pre_auth_form' 'others'\n",
      " 'pre_auth_form' 'ecard' 'ecard' 'others' 'ds' 'ds' 'pre_auth_form' 'ds'\n",
      " 'ecard' 'pre_auth_form' 'pre_auth_form' 'ecard' 'ds' 'pre_auth_form'\n",
      " 'kyc' 'ds' 'pre_auth_form' 'ecard' 'ecard' 'others' 'ds' 'kyc' 'ecard'\n",
      " 'ds' 'ds' 'ecard' 'ecard' 'kyc' 'ecard' 'pre_auth_form' 'pre_auth_form'\n",
      " 'ecard' 'others' 'ds' 'ecard' 'ecard' 'ds' 'kyc' 'others' 'ecard' 'kyc'\n",
      " 'ds' 'others' 'kyc' 'pre_auth_form' 'others' 'kyc' 'ds' 'others'\n",
      " 'pre_auth_form' 'others' 'pre_auth_form' 'ds' 'pre_auth_form' 'others'\n",
      " 'pre_auth_form' 'kyc' 'pre_auth_form' 'pre_auth_form' 'others' 'ds'\n",
      " 'others' 'others' 'ds' 'kyc' 'ecard' 'kyc' 'kyc' 'ds' 'ds' 'others' 'kyc'\n",
      " 'ds' 'pre_auth_form' 'ds' 'ds' 'ecard' 'ds' 'kyc' 'others' 'others'\n",
      " 'pre_auth_form' 'ecard' 'others' 'pre_auth_form' 'kyc' 'kyc'\n",
      " 'pre_auth_form' 'others' 'ds' 'pre_auth_form' 'pre_auth_form'\n",
      " 'pre_auth_form' 'ecard' 'pre_auth_form' 'ds' 'pre_auth_form' 'kyc'\n",
      " 'others' 'others' 'kyc' 'pre_auth_form' 'kyc' 'ds' 'ecard' 'kyc' 'others'\n",
      " 'kyc' 'ds' 'pre_auth_form' 'others' 'kyc' 'others' 'kyc' 'ecard' 'kyc'\n",
      " 'pre_auth_form' 'ecard' 'ecard' 'ds' 'ecard' 'kyc' 'pre_auth_form' 'kyc'\n",
      " 'pre_auth_form' 'kyc' 'others' 'ds' 'ecard' 'ds' 'ecard' 'others' 'kyc'\n",
      " 'others' 'others' 'others' 'ds' 'kyc' 'kyc' 'ds' 'ds' 'ds' 'ecard' 'kyc'\n",
      " 'others' 'kyc' 'ecard' 'pre_auth_form' 'ds' 'pre_auth_form' 'kyc'\n",
      " 'others' 'pre_auth_form' 'ds' 'kyc' 'kyc' 'ecard' 'pre_auth_form'\n",
      " 'pre_auth_form' 'others' 'kyc' 'pre_auth_form' 'pre_auth_form' 'kyc' 'ds'\n",
      " 'ecard' 'ds' 'pre_auth_form' 'pre_auth_form' 'kyc' 'others' 'ds' 'kyc'\n",
      " 'pre_auth_form' 'kyc' 'kyc' 'pre_auth_form' 'pre_auth_form' 'others' 'ds'\n",
      " 'others' 'others' 'kyc' 'kyc' 'ds' 'others' 'others' 'kyc' 'ecard' 'ds'\n",
      " 'others' 'ecard' 'kyc' 'ecard' 'pre_auth_form' 'ecard' 'ds' 'others'\n",
      " 'pre_auth_form' 'pre_auth_form' 'pre_auth_form' 'pre_auth_form' 'kyc'\n",
      " 'kyc' 'pre_auth_form']\n"
     ]
    }
   ],
   "source": [
    "print(pred_rfc)"
   ]
  },
  {
   "cell_type": "code",
   "execution_count": 30,
   "metadata": {},
   "outputs": [
    {
     "data": {
      "text/plain": [
       "array([[0.04566667, 0.        , 0.        , 0.95433333, 0.        ],\n",
       "       [0.73652381, 0.05333333, 0.        , 0.13766667, 0.07247619],\n",
       "       [0.8807619 , 0.        , 0.005     , 0.0892381 , 0.025     ],\n",
       "       [0.13581818, 0.009     , 0.036     , 0.81118182, 0.008     ],\n",
       "       [0.90685714, 0.        , 0.        , 0.044     , 0.04914286]])"
      ]
     },
     "execution_count": 30,
     "metadata": {},
     "output_type": "execute_result"
    }
   ],
   "source": [
    "probs[0:5]"
   ]
  },
  {
   "cell_type": "code",
   "execution_count": 50,
   "metadata": {},
   "outputs": [
    {
     "name": "stdout",
     "output_type": "stream",
     "text": [
      "Train accuracy_RandomForest=  0.9596469104665826\n",
      "Test accuracy_RandomForest=  0.9266862170087976\n"
     ]
    }
   ],
   "source": [
    "#printing train and test accuracies\n",
    "accuracy_score_rfc=metrics.accuracy_score(pred_rfc,Y_test)\n",
    "print(\"Train accuracy_RandomForest= \",rfc.score(unigrams_count_train_1,Y_train))\n",
    "print(\"Test accuracy_RandomForest= \",accuracy_score_rfc)"
   ]
  }
 ],
 "metadata": {
  "kernelspec": {
   "display_name": "Python 3",
   "language": "python",
   "name": "python3"
  },
  "language_info": {
   "codemirror_mode": {
    "name": "ipython",
    "version": 3
   },
   "file_extension": ".py",
   "mimetype": "text/x-python",
   "name": "python",
   "nbconvert_exporter": "python",
   "pygments_lexer": "ipython3",
   "version": "3.10.12"
  }
 },
 "nbformat": 4,
 "nbformat_minor": 2
}
